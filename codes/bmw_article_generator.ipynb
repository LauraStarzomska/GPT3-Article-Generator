{
 "cells": [
  {
   "cell_type": "code",
   "execution_count": 2,
   "id": "a0bd3eed",
   "metadata": {},
   "outputs": [],
   "source": [
    "import os\n",
    "import openai\n",
    "import re\n"
   ]
  },
  {
   "cell_type": "code",
   "execution_count": 3,
   "id": "b0997f70",
   "metadata": {},
   "outputs": [],
   "source": [
    "openai.api_key=\"insert your api key\""
   ]
  },
  {
   "cell_type": "code",
   "execution_count": 6,
   "id": "cc10a9e2",
   "metadata": {},
   "outputs": [
    {
     "name": "stdout",
     "output_type": "stream",
     "text": [
      "['München. Mit umfangreichen Neuerungen in den Bereichen  Performance, Präsenz und Digitalisierung schärft die BMW M GmbH das  Profil ihrer High-Performance-Automobile im Oberklasse-Segment der  Sports Activity Vehicles und Sports Activity Coupés. Der neue BMW X5 M  Competition (Kraftstoffverbrauch kombiniert: 13,1 – 12,9 l/100 km; CO2-  Emissionen kombiniert: 295 – 291 g/km gemäß WLTP; Angaben gemäß NEFZ: – )  und der neue BMW X6 M Competition (Kraftstoffverbrauch kombiniert: 12,9  – 12,7 l/100 km; CO2-Emissionen kombiniert: 292 – 287 g/km gemäß WLTP; Angaben  gemäß NEFZ: – ) präsentieren sich mit einem neuen V8-Motor einschließlich 48-Volt-Technologie, der eine Höchstleistung von 460 kW/625 PS mobilisiert, einem modifizierten Exterieurdesign sowie mit dem Bediensystem iDrive der jüngsten Generation samt BMW Curved Display und BMW Operating System 8.Die Neuauflage des beliebten Fahrzeugsegments begeistert durch seine  sportliche Optik mit markantem Frontspoiler und Seitenschwellern in Wagenfarbe sowie neu gestalteten LED-Hauptscheinwerfern mit integriertem Lichtguide für die Nebellampen. Das ausgeprägte Heckbild mit zusätzlichen Leuchtelementen in LED Technik verleiht dem Fahrzeug einen athletischen Auftritt. Die Modellvarianten X5 M Competition und X6 M Competition setzen außerdem auf edle Sportleder im Carbon Look für die Sitzeinstiege sowie Carbon Dekor für die Türverkleidung und die Mittelkonsole.Im Inneren des neuen X5 M Competition vermittelt der Fahrer durch seine Sitzposition das Gefühl von höchster Agilität und Dynamik. Die Sportlenkradgriffe in Leder sind ergonomisch geformt und auf Druckpunkte abgestimmt. Die beiden Drehschalter für den 8-Gang Schaltgetriebe oder das Automatikgetriebe stehen für die Optimierung des Lenkradgriffs beim Beschleunigen oder Bremsen zur Verfügung. Das Multifunktionslenkrad ist mit verschiedene Materialien wie Alcantara® besetzt sowie mit herausnehmbaren Einsatzstücken aus Aluminium versehen. Diese unterstreichen den sportlichen Auftritt des Fahrzeugs bei gleichzeitiger Funktionalität zum Bedienen von Funktionen wie Radio, Telefon oder Navigationssystem. Als weiteres Element des sportlich gestalteten Cockpits verwendet BMW Individual seine umweltfreundliche Farbgebung „BMW Individual Pure Black“ für Armaturentafel und Dekorblende im Mittelteil des Armaturenbretts sowie für den unteren Teil der Türen. Das exklusive Interieurdesign bildet somit einen perfekten Rahmen für die Anzeigeinstrumente im Cockpit, welche über digitale Displays erfolgen statt über analoge Zeiger wie bisher beim X5 M*. Unterhalb dieser Instrumente erhellt ein großer TFT Bildschirm in Farbe das Armaturenbrett rechts vom Fahrer als weiteres Highlight im Cockpit des X5 M Competition*. Darüber hinaus ermöglicht es dem Kunden über verschiedene Menüs selbst individuelle Informationseinstellungen vorzunehmen oder spezielle Funktionselemente wie etwa den Rennstartknopf oder das „Drift“ Anzeigeinstrument zu nutzen.*Die Ausstattungsvariante „X5 xDrive50i“ ist nicht mehr erhältlichNeue Motorisierung: V8 Biturbo Motor plus 48 Volt TechnologieDer neue Topmotor der Baureihe 4 Reihe verbindet Effizienz mit hoher Leistungsdichte bei gleichzeitig niedriger Verbräuchelast (Cd x A) von 0,65 bis 0,67 kg/kW* bei maximalem Drehmoment von 650 Nm bis 1 250 Nm*. Diese Werte stellen bereits heute deutlich überlegene Werte gegenüber dem Vorgängermodell BMW X5 xDrive50i* (0,65 bis 0,68 kg/kW*) dar und zeigen damit deutlich den Mehrwert dieses neu entwickelten Motorsystems gegenüber dem Vorgängermodell an.Mit dem innovativen 48 Volt System ist es möglich hocheffiziente Antriebsstrangstechnologien insbesondere hinsichtlich Energieeffizienz zu realisieren – also Steigerung der Reichweite ohne Mehrverbrauch aufgrund größerer Reichweite zu erreichen“ sagte Stephan Reilhacke von BMW Group Innovation Office Germany, Leiter Connected Drive Technology Car Systems Division Powertrain and Energy Management Division Integration of the 48 Volt System into the vehicle production process at the production facilities of BMW Group Plant Regensburg and Plant Leipzig . „Dieses innovative Antriebsstrangstechnologien wird nunmehr bereits im Serientyp verbaut“ ergänzte Stephan Reilhacke weiterhin.\"Mit diesem innovativen Antriebsstrangstechnologiensystem haben wir uns als Vorreiter positioniert\", so Stefan Nedialkovskiy vom BMW Group Forschungszentrum Munich , Leiter Advanced Powertrain Research & Development Vehicle']\n"
     ]
    }
   ],
   "source": [
    "ft = 'your model'\n",
    "\n",
    "\n",
    "def completion(prompt, model, temp=0.5, top_p=0.95, tokens=1500, freq_pen=0.5, pres_pen=0.0, stop=['\\n']):\n",
    "    response = openai.Completion.create(\n",
    "        model=model,\n",
    "        prompt=prompt,\n",
    "        temperature=temp,\n",
    "        max_tokens=tokens,\n",
    "        top_p=top_p,\n",
    "        frequency_penalty=freq_pen,\n",
    "        presence_penalty=pres_pen,\n",
    "        stop=stop)\n",
    "    return response['choices'][0]['text'].strip().splitlines()\n",
    "\n",
    "prompt = \"Mit umfangreichen Neuerungen in den Bereichen Performance, Präsenz und Digitalisierung schärft die BMW M GmbH das Profil ihrer High-Performance-Automobile im Oberklasse-Segment der Sports Activity Vehicles und Sports Activity Coupés. Der neue BMW X5 M Competition (Kraftstoffverbrauch kombiniert: 13,1 – 12,9 l/100 km; CO2-Emissionen kombiniert: 295 – 291 g/km gemäß WLTP; Angaben gemäß NEFZ: – ) und der neue BMW X6 M Competition (Kraftstoffverbrauch kombiniert: 12,9 – 12,7 l/100 km; CO2-Emissionen kombiniert: 292 – 287 g/km gemäß WLTP; Angaben gemäß NEFZ: – ) präsentieren sich mit einem neuen V8-Motor einschließlich 48-Volt-Technologie, der eine Höchstleistung von 460 kW/625 PS mobilisiert, einem modifizierten Exterieurdesign sowie mit dem Bediensystem iDrive der jüngsten Generation samt BMW Curved Display und BMW Operating System 8. ->\"\n",
    "\n",
    "article = completion(prompt, ft)\n",
    "print(article)"
   ]
  },
  {
   "cell_type": "code",
   "execution_count": 27,
   "id": "d1e5371d",
   "metadata": {},
   "outputs": [
    {
     "name": "stdout",
     "output_type": "stream",
     "text": [
      "[\"BMW Group Polska and the SOS Children's Villages Association have joined forces to help children affected by the war in Ukraine. The next tranche of aid will be PLN 2.3 million. This will make it possible to provide long-term assistance to war victims and prepare new places for children in need.\"]\n"
     ]
    }
   ],
   "source": [
    "ft = 'your fine-tuned model'\n",
    "\n",
    "\n",
    "def completion(prompt, model, temp=0.5, top_p=0.95, tokens=1500, freq_pen=0.5, pres_pen=0.0, stop=['\\n']):\n",
    "    response = openai.Completion.create(\n",
    "        model=model,\n",
    "        prompt=prompt,\n",
    "        temperature=temp,\n",
    "        max_tokens=tokens,\n",
    "        top_p=top_p,\n",
    "        frequency_penalty=freq_pen,\n",
    "        presence_penalty=pres_pen,\n",
    "        stop=stop)\n",
    "    return response['choices'][0]['text'].strip().splitlines()\n",
    "\n",
    "prompt = \"Warsaw. Due to the war in Ukraine, almost 100,000 people are in a particularly difficult situation. children staying in orphanages. SOS Ukraine employees estimate that 16 thousand. of them need immediate help. The BMW Group works with organizations working to resolve this humanitarian crisis. After transferring EUR 1 million to UNICEF, the next tranche of aid goes directly to Poland. BMW Group Polska will donate over PLN 2.3 million (EUR 500,000) to the SOS Children's Villages Association. The support will make it possible to carry out activities aimed at long-term assistance to war victims, and will also help in the preparation of new places for children in need. The activities will also include support for special educational needs and professional psychological, pedagogical and health care. - I am proud that, together with the employees of BMW Group Polska and BMW and MINI dealers, we are joining millions of people organizing support for Ukraine. Poles are incredibly committed to helping and show how important responsibility for others is for them. This concern for other people is also natural for us as a company. By deciding to cooperate with the SOS Children's Villages Association, we want to jointly provide children evacuated from Ukraine with safety and conditions to return to normalcy, said Christian Haririan, General Director of BMW Group Poland. - We are grateful for every support and dedication. Thanks to companies such as BMW Group Polska, we can help children continuously and smoothly plan the most important activities - says Anna Choszcz-Sendrowska, director of communication and PR at the SOS Children's Villages Association in Poland.  ->\"\n",
    "article = completion(prompt, ft)\n",
    "print(article)"
   ]
  }
 ],
 "metadata": {
  "kernelspec": {
   "display_name": "Python 3 (ipykernel)",
   "language": "python",
   "name": "python3"
  },
  "language_info": {
   "codemirror_mode": {
    "name": "ipython",
    "version": 3
   },
   "file_extension": ".py",
   "mimetype": "text/x-python",
   "name": "python",
   "nbconvert_exporter": "python",
   "pygments_lexer": "ipython3",
   "version": "3.9.13"
  }
 },
 "nbformat": 4,
 "nbformat_minor": 5
}
